{
 "cells": [
  {
   "cell_type": "code",
   "execution_count": 1,
   "id": "5c3ed505",
   "metadata": {},
   "outputs": [
    {
     "name": "stdout",
     "output_type": "stream",
     "text": [
      "Enter a string value: assembly\n",
      "a,1\n",
      "s,2\n",
      "e,1\n",
      "m,1\n",
      "b,1\n",
      "l,1\n",
      "y,1\n"
     ]
    }
   ],
   "source": [
    "## Question1\n",
    "\n",
    "string  = input(\"Enter a string value: \")\n",
    "lst1 = []\n",
    "for char in string:\n",
    "    if char not in lst1:\n",
    "        lst1.append(char)\n",
    "for item in lst1:\n",
    "    print(item,string.count(item), sep = \",\")"
   ]
  },
  {
   "cell_type": "code",
   "execution_count": 5,
   "id": "dc9fc902",
   "metadata": {},
   "outputs": [
    {
     "name": "stdout",
     "output_type": "stream",
     "text": [
      "34\n"
     ]
    }
   ],
   "source": [
    "## Question2\n",
    "\n",
    "a = 34\n",
    "b = 12\n",
    "c = 7\n",
    "print(max(a, b, c))"
   ]
  },
  {
   "cell_type": "code",
   "execution_count": 6,
   "id": "f29d1ddd",
   "metadata": {},
   "outputs": [
    {
     "name": "stdout",
     "output_type": "stream",
     "text": [
      "Enter the base: 2\n",
      "Enter the exponent: 3\n",
      "Result: 8\n"
     ]
    }
   ],
   "source": [
    "## Question3\n",
    "\n",
    "def power(base,exp):\n",
    "    if(exp==1):\n",
    "        return(base)\n",
    "    if(exp!=1):\n",
    "        return(base*power(base,exp-1))\n",
    "base=int(input(\"Enter the base: \"))\n",
    "exp=int(input(\"Enter the exponent: \"))\n",
    "print(\"Result:\",power(base,exp))"
   ]
  },
  {
   "cell_type": "code",
   "execution_count": 7,
   "id": "99810b58",
   "metadata": {},
   "outputs": [
    {
     "name": "stdout",
     "output_type": "stream",
     "text": [
      "Sum of cubes smaller than the specified number:  36\n"
     ]
    }
   ],
   "source": [
    "## Question4\n",
    "\n",
    "def sum_of_cubes(n):\n",
    " n -= 1\n",
    " total = 0\n",
    " while n > 0:\n",
    "   total += n * n * n\n",
    "   n -= 1\n",
    " return total\n",
    "print(\"Sum of cubes smaller than the specified number: \",sum_of_cubes(4))"
   ]
  },
  {
   "cell_type": "code",
   "execution_count": 8,
   "id": "fb84c6c9",
   "metadata": {},
   "outputs": [
    {
     "name": "stdout",
     "output_type": "stream",
     "text": [
      "1\n",
      "Fizz\n",
      "3\n",
      "Fizz\n",
      "Buzz\n",
      "Fizz\n",
      "7\n",
      "Fizz\n",
      "9\n",
      "FizzBuzz\n"
     ]
    }
   ],
   "source": [
    "## Question5\n",
    "\n",
    "for fizzbuzz in range(1,11):\n",
    "    if fizzbuzz % 2 == 0 and fizzbuzz % 5 == 0:\n",
    "        print(\"FizzBuzz\")\n",
    "        continue\n",
    "    elif fizzbuzz % 2 == 0:\n",
    "        print(\"Fizz\")\n",
    "        continue\n",
    "    elif fizzbuzz % 5 == 0:\n",
    "        print(\"Buzz\")\n",
    "        continue\n",
    "    print(fizzbuzz)"
   ]
  },
  {
   "cell_type": "code",
   "execution_count": 11,
   "id": "5a0a6df4",
   "metadata": {},
   "outputs": [
    {
     "name": "stdout",
     "output_type": "stream",
     "text": [
      "2\n"
     ]
    }
   ],
   "source": [
    "## Question6\n",
    "\n",
    "lst=[2, 3, 4, 2, 5, 2 ]\n",
    "print(max(set(lst),key=lst.count))"
   ]
  },
  {
   "cell_type": "code",
   "execution_count": 12,
   "id": "3737d0e3",
   "metadata": {},
   "outputs": [
    {
     "name": "stdout",
     "output_type": "stream",
     "text": [
      "15\n"
     ]
    }
   ],
   "source": [
    "## Question7\n",
    "\n",
    "l = [2,1,3,1]\n",
    "print(sum(i*i for i in l))"
   ]
  },
  {
   "cell_type": "code",
   "execution_count": 26,
   "id": "2bf52f3b",
   "metadata": {
    "scrolled": true
   },
   "outputs": [
    {
     "name": "stdout",
     "output_type": "stream",
     "text": [
      "1 - odd\n",
      "2 - even\n",
      "3 - odd\n",
      "4 - even\n",
      "5 - odd\n",
      "6 - even\n",
      "7 - odd\n",
      "8 - even\n",
      "9 - odd\n",
      "10 - even\n",
      "11 - odd\n",
      "12 - even\n",
      "13 - odd\n",
      "14 - even\n",
      "15 - odd\n"
     ]
    }
   ],
   "source": [
    " ## Question8\n",
    "    \n",
    "for number in range(1,16):\n",
    "    if(number%2 !=0):\n",
    "        print(number,\"- odd\")\n",
    "    else:\n",
    "        print(number,\"- even\",)\n",
    "    "
   ]
  },
  {
   "cell_type": "code",
   "execution_count": 31,
   "id": "4926aaed",
   "metadata": {},
   "outputs": [
    {
     "name": "stdout",
     "output_type": "stream",
     "text": [
      "Enter temperature in fahrenheit: 41\n",
      "41.00 Fahrenheit is: 5.00 Celsius\n"
     ]
    }
   ],
   "source": [
    "## Question9\n",
    "\n",
    "fahrenheit = float(input(\"Enter temperature in fahrenheit: \"))\n",
    "celsius = (fahrenheit - 32) * 5/9\n",
    "print('%.2f Fahrenheit is: %0.2f Celsius' %(fahrenheit, celsius))\n"
   ]
  },
  {
   "cell_type": "code",
   "execution_count": 34,
   "id": "9040ac1e",
   "metadata": {},
   "outputs": [
    {
     "name": "stdout",
     "output_type": "stream",
     "text": [
      "Enter a number: 3\n",
      "The factorial of 3 is 6\n"
     ]
    }
   ],
   "source": [
    " ## Question10\n",
    "    \n",
    "    num = int(input(\"Enter a number: \"))    \n",
    "factorial = 1    \n",
    "if num < 0:    \n",
    "   print(\" Factorial does not exist for negative numbers\")    \n",
    "elif num == 0:    \n",
    "   print(\"The factorial of 0 is 1\")    \n",
    "else:    \n",
    "   for i in range(1,num + 1):    \n",
    "       factorial = factorial*i    \n",
    "   print(\"The factorial of\",num,\"is\",factorial)  "
   ]
  }
 ],
 "metadata": {
  "kernelspec": {
   "display_name": "Python 3 (ipykernel)",
   "language": "python",
   "name": "python3"
  },
  "language_info": {
   "codemirror_mode": {
    "name": "ipython",
    "version": 3
   },
   "file_extension": ".py",
   "mimetype": "text/x-python",
   "name": "python",
   "nbconvert_exporter": "python",
   "pygments_lexer": "ipython3",
   "version": "3.11.3"
  }
 },
 "nbformat": 4,
 "nbformat_minor": 5
}
