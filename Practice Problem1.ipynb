{
 "cells": [
  {
   "cell_type": "code",
   "execution_count": 14,
   "id": "4bf51150",
   "metadata": {
    "scrolled": true
   },
   "outputs": [
    {
     "name": "stdout",
     "output_type": "stream",
     "text": [
      "Enter the radius : 3\n",
      "Area of Circle 3.0 is: 28.274333882308138\n"
     ]
    }
   ],
   "source": [
    "## Question 1\n",
    "\n",
    "from math import pi\n",
    "r = float(input (\"Enter the radius : \"))\n",
    "print (\"Area of Circle \" + str(r) + \" is: \" + str(pi * r**2))\n"
   ]
  },
  {
   "cell_type": "code",
   "execution_count": 13,
   "id": "36e685a1",
   "metadata": {},
   "outputs": [
    {
     "name": "stdout",
     "output_type": "stream",
     "text": [
      "Enter the Name:Anisha\n",
      "Enter the roll number:21\n",
      "Enter the mark:78\n",
      "Name:Anisha\n",
      "Roll No:21\n",
      "Mark:78\n"
     ]
    }
   ],
   "source": [
    "## Question 2\n",
    "\n",
    "name=input('Enter the Name:')\n",
    "roll=input('Enter the roll number:')\n",
    "mark=input('Enter the mark:')\n",
    "print('Name:'+ name)\n",
    "print('Roll No:'+ roll)\n",
    "print('Mark:'+ mark)\n"
   ]
  },
  {
   "cell_type": "code",
   "execution_count": 15,
   "id": "718fcd34",
   "metadata": {},
   "outputs": [
    {
     "name": "stdout",
     "output_type": "stream",
     "text": [
      "47 is the largest number\n"
     ]
    }
   ],
   "source": [
    "## Question 3\n",
    "\n",
    "list1 = [12, 3, 47, 10]\n",
    "print(max(list1), \"is the largest number\")"
   ]
  },
  {
   "cell_type": "code",
   "execution_count": 17,
   "id": "a760b32d",
   "metadata": {},
   "outputs": [
    {
     "name": "stdout",
     "output_type": "stream",
     "text": [
      "Current Number 1 Previous Number  0  Sum:  1\n",
      "Current Number 2 Previous Number  1  Sum:  3\n",
      "Current Number 3 Previous Number  2  Sum:  5\n",
      "Current Number 4 Previous Number  3  Sum:  7\n",
      "Current Number 5 Previous Number  4  Sum:  9\n",
      "Current Number 6 Previous Number  5  Sum:  11\n",
      "Current Number 7 Previous Number  6  Sum:  13\n",
      "Current Number 8 Previous Number  7  Sum:  15\n",
      "Current Number 9 Previous Number  8  Sum:  17\n",
      "Current Number 10 Previous Number  9  Sum:  19\n"
     ]
    }
   ],
   "source": [
    "## Question 4\n",
    "\n",
    "previous_num = 0\n",
    "# loop from 1 to 10\n",
    "for i in range(1, 11):\n",
    "    x_sum = previous_num + i\n",
    "    print(\"Current Number\", i, \"Previous Number \", previous_num, \" Sum: \", x_sum)\n",
    "   \n",
    "    previous_num = i"
   ]
  },
  {
   "cell_type": "code",
   "execution_count": 25,
   "id": "e02c93f9",
   "metadata": {},
   "outputs": [
    {
     "name": "stdout",
     "output_type": "stream",
     "text": [
      "10\n",
      "20\n",
      "55\n"
     ]
    }
   ],
   "source": [
    "## Question 5\n",
    "\n",
    "nums = [ 10, 20,33,46,55] \n",
    " for i in nums: \n",
    "if i % 5 == 0: \n",
    "print(i) "
   ]
  },
  {
   "cell_type": "code",
   "execution_count": 15,
   "id": "db8ffefc",
   "metadata": {},
   "outputs": [
    {
     "name": "stdout",
     "output_type": "stream",
     "text": [
      "Enter the number: 3\n",
      "3 is a prime number\n"
     ]
    }
   ],
   "source": [
    "## Question 6\n",
    "number = int(input(\"Enter the number: \"))\n",
    "if number > 1:\n",
    "    for i in range(2, number):\n",
    "        if (number % i) == 0:\n",
    "            print(number, \"is not a prime number\")\n",
    "            break\n",
    "    else:\n",
    "        print(number, \"is a prime number\")\n",
    "\n",
    "\n",
    "else:\n",
    "    print(number, \"is not a prime number\")"
   ]
  },
  {
   "cell_type": "code",
   "execution_count": 16,
   "id": "6e129999",
   "metadata": {},
   "outputs": [
    {
     "name": "stdout",
     "output_type": "stream",
     "text": [
      "Original List : [10, 40, 30, 70]\n",
      "Reversed List : [70, 30, 40, 10]\n"
     ]
    }
   ],
   "source": [
    "## Question 7\n",
    "\n",
    "myList = [10,40,30,70] \n",
    "reversedList = []\n",
    "\n",
    "for i in range(len(myList)) :\n",
    "    reversedList.append(myList[len(myList) - i - 1])\n",
    "\n",
    "print(f'Original List : {myList}')\n",
    "print(f'Reversed List : {reversedList}')\n"
   ]
  },
  {
   "cell_type": "code",
   "execution_count": 9,
   "id": "44b7e511",
   "metadata": {},
   "outputs": [
    {
     "name": "stdout",
     "output_type": "stream",
     "text": [
      "*\n",
      "**\n",
      "***\n",
      "****\n"
     ]
    }
   ],
   "source": [
    "## Question 8\n",
    "\n",
    "for i in range(4):\n",
    "        for j in range(i+1):\n",
    "            print(end=\"*\")\n",
    "        print()"
   ]
  },
  {
   "cell_type": "code",
   "execution_count": 10,
   "id": "467e4ba3",
   "metadata": {},
   "outputs": [
    {
     "name": "stdout",
     "output_type": "stream",
     "text": [
      "34\n"
     ]
    }
   ],
   "source": [
    "## Question 9\n",
    "\n",
    "x=34\n",
    "\n",
    "y=12\n",
    "\n",
    "z=7\n",
    "\n",
    "print(max(x, y, z))\n"
   ]
  },
  {
   "cell_type": "code",
   "execution_count": 13,
   "id": "b94d0439",
   "metadata": {},
   "outputs": [
    {
     "name": "stdout",
     "output_type": "stream",
     "text": [
      "\n",
      "*\n",
      "**\n",
      "***\n",
      "****\n",
      "*****\n",
      "****\n",
      "***\n",
      "**\n",
      "*\n"
     ]
    }
   ],
   "source": [
    "## Question 10\n",
    "\n",
    "n=5;\n",
    "for i in range(n):\n",
    "    for j in range(i):\n",
    "        print ('*', end=\"\")\n",
    "    print('')\n",
    "\n",
    "for i in range(n,0,-1):\n",
    "    for j in range(i):\n",
    "        print('*', end=\"\")\n",
    "    print('')\n"
   ]
  }
 ],
 "metadata": {
  "kernelspec": {
   "display_name": "Python 3 (ipykernel)",
   "language": "python",
   "name": "python3"
  },
  "language_info": {
   "codemirror_mode": {
    "name": "ipython",
    "version": 3
   },
   "file_extension": ".py",
   "mimetype": "text/x-python",
   "name": "python",
   "nbconvert_exporter": "python",
   "pygments_lexer": "ipython3",
   "version": "3.11.3"
  }
 },
 "nbformat": 4,
 "nbformat_minor": 5
}
